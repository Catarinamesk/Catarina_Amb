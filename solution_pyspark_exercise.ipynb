{
  "cells": [
    {
      "cell_type": "markdown",
      "metadata": {
        "id": "view-in-github",
        "colab_type": "text"
      },
      "source": [
        "<a href=\"https://colab.research.google.com/github/Catarinamesk/Catarina_Amb/blob/main/solution_pyspark_exercise.ipynb\" target=\"_parent\"><img src=\"https://colab.research.google.com/assets/colab-badge.svg\" alt=\"Open In Colab\"/></a>"
      ]
    },
    {
      "cell_type": "markdown",
      "id": "86d77cd4",
      "metadata": {
        "id": "86d77cd4"
      },
      "source": [
        "# **Solução do Exercício PySpark - Processando Dados**\n",
        "Este notebook contém a solução completa e comentada do exercício proposto com PySpark, utilizando o arquivo `sales.csv`. Todas as etapas estão detalhadas para facilitar o entendimento."
      ]
    },
    {
      "cell_type": "code",
      "execution_count": null,
      "id": "df5aa8fe",
      "metadata": {
        "colab": {
          "base_uri": "https://localhost:8080/"
        },
        "id": "df5aa8fe",
        "outputId": "3e656652-e398-45ee-e822-a4e1b3223393"
      },
      "outputs": [
        {
          "output_type": "stream",
          "name": "stdout",
          "text": [
            "Requirement already satisfied: pyspark in /usr/local/lib/python3.11/dist-packages (3.5.4)\n",
            "Requirement already satisfied: py4j==0.10.9.7 in /usr/local/lib/python3.11/dist-packages (from pyspark) (0.10.9.7)\n"
          ]
        }
      ],
      "source": [
        "\n",
        "# 1. Configurar PySpark no Google Colab\n",
        "# Execute esta célula para instalar as dependências necessárias.\n",
        "!pip install pyspark\n"
      ]
    },
    {
      "cell_type": "code",
      "execution_count": null,
      "id": "875fafc7",
      "metadata": {
        "id": "875fafc7"
      },
      "outputs": [],
      "source": [
        "\n",
        "# 2. Importar bibliotecas\n",
        "from pyspark.sql import SparkSession\n"
      ]
    },
    {
      "cell_type": "code",
      "execution_count": null,
      "id": "3d3f953f",
      "metadata": {
        "id": "3d3f953f"
      },
      "outputs": [],
      "source": [
        "\n",
        "# 3. Criar a SparkSession\n",
        "# A SparkSession é o ponto de entrada para trabalhar com PySpark.\n",
        "spark = SparkSession.builder.appName(\"Solução PySpark\").getOrCreate()\n"
      ]
    },
    {
      "cell_type": "code",
      "execution_count": null,
      "id": "1cf83ae8",
      "metadata": {
        "colab": {
          "base_uri": "https://localhost:8080/"
        },
        "id": "1cf83ae8",
        "outputId": "a62be920-e47d-420c-d8a2-89d39b436929"
      },
      "outputs": [
        {
          "output_type": "stream",
          "name": "stdout",
          "text": [
            "+-------------+----------+---------+-----------+--------+--------+------------+------------------+------------+------+-------------+\n",
            "|TransactionID|CustomerID|ProductID|ProductName|Category|Quantity|PricePerUnit|        TotalPrice|PurchaseDate|Region|PaymentMethod|\n",
            "+-------------+----------+---------+-----------+--------+--------+------------+------------------+------------+------+-------------+\n",
            "|            1|      1185|      103|     others|  simple|       8|      750.01|           6000.08|  2025-01-07| South|  Credit Card|\n",
            "|            2|      4819|      136|      force|    sell|       2|      515.56|           1031.12|  2025-01-06|  West|Bank Transfer|\n",
            "|            3|      4297|      140|       deal|   serve|       4|       980.5|            3922.0|  2025-01-01| North|  Credit Card|\n",
            "|            4|      4365|      144|      later| another|       6|      507.34|           3044.04|  2025-01-06| North|       PayPal|\n",
            "|            5|      2408|      176|        end|    baby|       9|      300.11|2700.9900000000002|  2025-01-23| South|       PayPal|\n",
            "+-------------+----------+---------+-----------+--------+--------+------------+------------------+------------+------+-------------+\n",
            "only showing top 5 rows\n",
            "\n"
          ]
        }
      ],
      "source": [
        "\n",
        "# 4. Ler o arquivo CSV em um DataFrame\n",
        "# Substitua \"sales.csv\" pelo caminho correto do arquivo no Colab (faça o upload do arquivo).\n",
        "df = spark.read.csv(\"sales.csv\", header=True, inferSchema=True)\n",
        "\n",
        "# Exibir os primeiros registros para entender o formato dos dados\n",
        "df.show(5)\n"
      ]
    },
    {
      "cell_type": "code",
      "execution_count": null,
      "id": "87dba142",
      "metadata": {
        "colab": {
          "base_uri": "https://localhost:8080/"
        },
        "id": "87dba142",
        "outputId": "c2ba91b5-5c19-45ae-b8c4-0c3861ed8f99"
      },
      "outputs": [
        {
          "output_type": "stream",
          "name": "stdout",
          "text": [
            "+-------------+----------+---------+-----------+--------+--------+------------+----------+------------+------+-------------+\n",
            "|TransactionID|CustomerID|ProductID|ProductName|Category|Quantity|PricePerUnit|TotalPrice|PurchaseDate|Region|PaymentMethod|\n",
            "+-------------+----------+---------+-----------+--------+--------+------------+----------+------------+------+-------------+\n",
            "|            1|      1185|      103|     others|  simple|       8|      750.01|   6000.08|  2025-01-07| South|  Credit Card|\n",
            "|            3|      4297|      140|       deal|   serve|       4|       980.5|    3922.0|  2025-01-01| North|  Credit Card|\n",
            "|            4|      4365|      144|      later| another|       6|      507.34|   3044.04|  2025-01-06| North|       PayPal|\n",
            "|            7|      4318|      189|    defense|    wide|       8|      764.99|   6119.92|  2025-01-19|  West|       PayPal|\n",
            "|           17|      2815|      115|      adult|  single|       6|       765.0|    4590.0|  2025-01-01|  East|  Credit Card|\n",
            "+-------------+----------+---------+-----------+--------+--------+------------+----------+------------+------+-------------+\n",
            "only showing top 5 rows\n",
            "\n"
          ]
        }
      ],
      "source": [
        "\n",
        "# 5. Filtrar vendas com TotalPrice acima de 3000\n",
        "# Aplicamos o filtro para selecionar apenas transações maiores que 3000 no total.\n",
        "vendas_filtradas = df.filter(df[\"TotalPrice\"] > 3000)\n",
        "\n",
        "# Exibir as vendas filtradas para verificar\n",
        "vendas_filtradas.show(5)\n"
      ]
    },
    {
      "cell_type": "code",
      "execution_count": null,
      "id": "dfdb8429",
      "metadata": {
        "id": "dfdb8429"
      },
      "outputs": [],
      "source": [
        "\n",
        "# 6. Salvar os dados filtrados em formato Parquet\n",
        "# O formato Parquet é otimizado para análise em escala.\n",
        "vendas_filtradas.write.parquet(\"vendas_filtradas.parquet\", mode=\"overwrite\")\n"
      ]
    },
    {
      "cell_type": "code",
      "execution_count": null,
      "id": "d4fee90c",
      "metadata": {
        "id": "d4fee90c"
      },
      "outputs": [],
      "source": [
        "\n",
        "# 7. Criar uma tabela temporária para consultas SQL\n",
        "# Isso permite executar consultas SQL diretamente no DataFrame.\n",
        "df.createOrReplaceTempView(\"sales\")\n"
      ]
    },
    {
      "cell_type": "code",
      "execution_count": null,
      "id": "c84d91ab",
      "metadata": {
        "colab": {
          "base_uri": "https://localhost:8080/"
        },
        "id": "c84d91ab",
        "outputId": "2cd6eb9d-e93d-4341-f42b-6fb5c501c7f7"
      },
      "outputs": [
        {
          "output_type": "stream",
          "name": "stdout",
          "text": [
            "+------+-----------------+\n",
            "|Region|     TotalRevenue|\n",
            "+------+-----------------+\n",
            "| South|6448566.390000022|\n",
            "|  East|6220672.829999992|\n",
            "|  West|6253902.339999993|\n",
            "| North|6134006.539999987|\n",
            "+------+-----------------+\n",
            "\n"
          ]
        }
      ],
      "source": [
        "\n",
        "# 8. Executar uma consulta SQL\n",
        "# Aqui somamos o TotalPrice por região para entender o desempenho por localização.\n",
        "resultado = spark.sql(\"SELECT Region, SUM(TotalPrice) AS TotalRevenue FROM sales GROUP BY Region\")\n",
        "\n",
        "# Exibir o resultado da consulta\n",
        "resultado.show()\n"
      ]
    },
    {
      "cell_type": "code",
      "execution_count": null,
      "id": "6a3171d7",
      "metadata": {
        "id": "6a3171d7"
      },
      "outputs": [],
      "source": [
        "\n",
        "# 9. Salvar o resultado em formato CSV para análise posterior\n",
        "resultado.write.csv(\"resultado_por_regiao.csv\", mode=\"overwrite\", header=True)\n"
      ]
    }
  ],
  "metadata": {
    "colab": {
      "provenance": [],
      "include_colab_link": true
    },
    "language_info": {
      "name": "python"
    },
    "kernelspec": {
      "name": "python3",
      "display_name": "Python 3"
    }
  },
  "nbformat": 4,
  "nbformat_minor": 5
}